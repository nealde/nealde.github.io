{
 "cells": [
  {
   "cell_type": "code",
   "execution_count": 7,
   "metadata": {
    "collapsed": false
   },
   "outputs": [
    {
     "name": "stdout",
     "output_type": "stream",
     "text": [
      "size: 6.22 m^2\n",
      "Sheets required: 2.09\n"
     ]
    }
   ],
   "source": [
    "# Super basic model:\n",
    "# Insolation per m^2 in Seattle:\n",
    "insolation = 3.57 # kWh/m^2/day\n",
    "\n",
    "# Energy usage per day (heat only - water)\n",
    "heat_usage = 20 # kWh / day hot water\n",
    "\n",
    "ground_water_temp = 50 # degrees F\n",
    "ground_water_temp = (ground_water_temp-32)*(5/9.) # degrees C\n",
    "\n",
    "efficiency = 0.9 # efficiency of light -> heated water\n",
    "\n",
    "# size of array:\n",
    "size = heat_usage/(efficiency*insolation)\n",
    "print \"size: %3.2f m^2\" % size\n",
    "plywood = 1.22*2.44 # plywood dimensions in m resulting in area in m^2\n",
    "print \"Sheets required: %3.2f\" % (size/plywood)"
   ]
  },
  {
   "cell_type": "code",
   "execution_count": 8,
   "metadata": {
    "collapsed": false
   },
   "outputs": [
    {
     "name": "stdout",
     "output_type": "stream",
     "text": [
      "ROI is 333.33 days\n"
     ]
    }
   ],
   "source": [
    "# Super basic ROI analysi:\n",
    "# Electricity cost:\n",
    "e_cost = 0.1 # dollars/kwh\n",
    "initial_cost = 300*2 # 2 modules required\n",
    "d_heat = 20*0.9 # assume 90% power reduction from hot water usage\n",
    "\n",
    "roi = initial_cost/(e_cost*d_heat) # ROI in days\n",
    "print \"ROI is %3.2f days\" % roi"
   ]
  },
  {
   "cell_type": "code",
   "execution_count": 9,
   "metadata": {
    "collapsed": true
   },
   "outputs": [],
   "source": [
    "# More advanced heat model:"
   ]
  },
  {
   "cell_type": "code",
   "execution_count": 10,
   "metadata": {
    "collapsed": true
   },
   "outputs": [],
   "source": [
    "# ROI:"
   ]
  },
  {
   "cell_type": "code",
   "execution_count": 21,
   "metadata": {
    "collapsed": false
   },
   "outputs": [
    {
     "name": "stdout",
     "output_type": "stream",
     "text": [
      "1964.87124592\n"
     ]
    }
   ],
   "source": [
    "# Solar cells and heat exchanger model:\n",
    "insolation = 3.57 # kwh/m^2/day\n",
    "heat_usage = 20 # kwh / day hot water\n",
    "\n",
    "silicon_eff = 0.15 # % efficiency\n",
    "panel_size = 1.6*0.99 # dimensions in m\n",
    "panel_cost = 250 # USD per panel\n",
    "heat_exh_mult = 3 # heat exchanger multiplier, typically 3-4\n",
    "# extra_hardware = 200 # cost of extra hardware\n",
    "\n",
    "area_needed = heat_usage/(insolation*silicon_eff*heat_exh_mult) # m^2\n",
    "panels = area_needed/panel_size\n",
    "cost = panels*panel_cost\n",
    "print cost\n",
    "# print panels\n"
   ]
  },
  {
   "cell_type": "code",
   "execution_count": null,
   "metadata": {
    "collapsed": true
   },
   "outputs": [],
   "source": []
  }
 ],
 "metadata": {
  "kernelspec": {
   "display_name": "Python [Root]",
   "language": "python",
   "name": "Python [Root]"
  },
  "language_info": {
   "codemirror_mode": {
    "name": "ipython",
    "version": 2
   },
   "file_extension": ".py",
   "mimetype": "text/x-python",
   "name": "python",
   "nbconvert_exporter": "python",
   "pygments_lexer": "ipython2",
   "version": "2.7.12"
  }
 },
 "nbformat": 4,
 "nbformat_minor": 0
}
